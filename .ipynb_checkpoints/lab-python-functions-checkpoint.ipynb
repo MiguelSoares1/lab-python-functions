{
 "cells": [
  {
   "cell_type": "markdown",
   "id": "25d7736c-ba17-4aff-b6bb-66eba20fbf4e",
   "metadata": {},
   "source": [
    "# Lab | Functions"
   ]
  },
  {
   "cell_type": "markdown",
   "id": "0c581062-8967-4d93-b06e-62833222f930",
   "metadata": {
    "tags": []
   },
   "source": [
    "## Exercise: Managing Customer Orders with Functions\n",
    "\n",
    "In the previous exercise, you improved the code for managing customer orders by using loops and flow control. Now, let's take it a step further and refactor the code by introducing functions.\n",
    "\n",
    "Follow the steps below to complete the exercise:\n",
    "\n",
    "1. Define a function named `initialize_inventory` that takes `products` as a parameter. Inside the function, implement the code for initializing the inventory dictionary using a loop and user input.\n",
    "\n",
    "2. Define a function named `get_customer_orders` that takes no parameters. Inside the function, implement the code for prompting the user to enter the product names using a loop. The function should return the `customer_orders` set.\n",
    "\n",
    "3. Define a function named `update_inventory` that takes `customer_orders` and `inventory` as parameters. Inside the function, implement the code for updating the inventory dictionary based on the customer orders.\n",
    "\n",
    "4. Define a function named `calculate_order_statistics` that takes `customer_orders` and `products` as parameters. Inside the function, implement the code for calculating the order statistics (total products ordered, and percentage of unique products ordered). The function should return these values.\n",
    "\n",
    "5. Define a function named `print_order_statistics` that takes `order_statistics` as a parameter. Inside the function, implement the code for printing the order statistics.\n",
    "\n",
    "6. Define a function named `print_updated_inventory` that takes `inventory` as a parameter. Inside the function, implement the code for printing the updated inventory.\n",
    "\n",
    "7. Call the functions in the appropriate sequence to execute the program and manage customer orders.\n",
    "\n",
    "Hints for functions:\n",
    "\n",
    "- Consider the input parameters required for each function and their return values.\n",
    "- Utilize function parameters and return values to transfer data between functions.\n",
    "- Test your functions individually to ensure they work correctly.\n",
    "\n",
    "\n"
   ]
  },
  {
   "cell_type": "markdown",
   "id": "c99dfdcd-ac0e-40f0-84a7-da770d19bb91",
   "metadata": {},
   "source": [
    "### 1 Define list of products"
   ]
  },
  {
   "cell_type": "code",
   "execution_count": 1,
   "id": "36a6f667-97bd-4e53-90e0-1c5ea67d8af8",
   "metadata": {},
   "outputs": [],
   "source": [
    "products = [\"T-shirt\", \"Mug\", \"Hat\", \"Book\", \"Keychain\"] "
   ]
  },
  {
   "cell_type": "markdown",
   "id": "4b22851f-ece1-4ff6-968b-ee06a9ded179",
   "metadata": {},
   "source": [
    "### 2 Empty dictonary "
   ]
  },
  {
   "cell_type": "code",
   "execution_count": 4,
   "id": "515db0a7-5837-4342-8991-c1efab517ff9",
   "metadata": {},
   "outputs": [],
   "source": [
    "inventory = {}  "
   ]
  },
  {
   "cell_type": "markdown",
   "id": "a06eea92-2db7-4520-b58e-fc25201a7255",
   "metadata": {},
   "source": [
    "### 3 Define a function named initialize_inventory that takes products as a parameter. Inside the function, implement the code for initializing the inventory dictionary using a loop and user input."
   ]
  },
  {
   "cell_type": "code",
   "execution_count": 7,
   "id": "30d839de-5450-47f2-ad9b-b137568f89a9",
   "metadata": {},
   "outputs": [],
   "source": [
    "def initialize_inventory(products):\n",
    "    for product in products:\n",
    "        quantity = int(input(\"Enter quantity for product\"))\n",
    "        inventory[product] = quantity"
   ]
  },
  {
   "cell_type": "code",
   "execution_count": 9,
   "id": "928c0ffb-1418-4cc7-bd8d-958f0a1a7ba9",
   "metadata": {},
   "outputs": [
    {
     "name": "stdin",
     "output_type": "stream",
     "text": [
      "Enter quantity for product 2\n",
      "Enter quantity for product 1\n",
      "Enter quantity for product 10\n",
      "Enter quantity for product 20\n",
      "Enter quantity for product 10\n"
     ]
    }
   ],
   "source": [
    "initialize_inventory(products)"
   ]
  },
  {
   "cell_type": "code",
   "execution_count": 11,
   "id": "ea38637b-035d-439e-8278-48d6178801ae",
   "metadata": {},
   "outputs": [
    {
     "name": "stdout",
     "output_type": "stream",
     "text": [
      "{'T-shirt': 2, 'Mug': 1, 'Hat': 10, 'Book': 20, 'Keychain': 10}\n"
     ]
    }
   ],
   "source": [
    "print(inventory)"
   ]
  },
  {
   "cell_type": "markdown",
   "id": "2c6fda91-67cc-4b84-9ad8-38099a8a1dfe",
   "metadata": {},
   "source": [
    "### 4 Define a function named get_customer_orders that takes no parameters. Inside the function, implement the code for prompting the user to enter the product names using a loop. The function should return the customer_orders set."
   ]
  },
  {
   "cell_type": "code",
   "execution_count": 14,
   "id": "7b7b22f2-90b6-41ea-819e-13aea08ecc3b",
   "metadata": {},
   "outputs": [],
   "source": [
    "def get_customer_orders(): \n",
    "    customer_orders = set()\n",
    "    want_to_continue = False\n",
    "\n",
    "    while want_to_continue == False:\n",
    "        Item = input(\"Insert one of the items: T-shirt, Mug, Hat, Book, Keychain\").capitalize()\n",
    "        if Item in products:\n",
    "            customer_orders.add(Item)\n",
    "        else:\n",
    "            print(\"That was not a valid item!\")\n",
    "        want_to_continue_option = input(\"Do you still want to continue?(Yes/No)\").capitalize()\n",
    "        if want_to_continue_option == \"No\":\n",
    "            want_to_continue = True\n",
    "\n",
    "    return customer_orders"
   ]
  },
  {
   "cell_type": "code",
   "execution_count": 16,
   "id": "7f860230-1114-498f-8d43-12a7a33d602f",
   "metadata": {},
   "outputs": [
    {
     "name": "stdin",
     "output_type": "stream",
     "text": [
      "Insert one of the items: T-shirt, Mug, Hat, Book, Keychain hat\n",
      "Do you still want to continue?(Yes/No) mug\n",
      "Insert one of the items: T-shirt, Mug, Hat, Book, Keychain keychain\n",
      "Do you still want to continue?(Yes/No) no\n"
     ]
    }
   ],
   "source": [
    "customer_orders_v1 = get_customer_orders()"
   ]
  },
  {
   "cell_type": "markdown",
   "id": "5e698a13-d388-42a9-9fe9-c741d6b4151c",
   "metadata": {},
   "source": [
    "### 5. Define a function named `print_order_statistics` that takes `order_statistics` as a parameter. Inside the function, implement the code for printing the order statistics."
   ]
  },
  {
   "cell_type": "code",
   "execution_count": 45,
   "id": "f8e5fcf1-83bf-40e5-910e-7e633279482c",
   "metadata": {},
   "outputs": [],
   "source": [
    "def print_order_statistics(customer_orders, inventory):\n",
    "    total_ordered = len(customer_orders)\n",
    "    percentage_ordered = (total_ordered / sum(inventory.values())) * 100\n",
    "    print(f\"Order Statistics:\\nTotal Products Ordered: {total_ordered}\")\n",
    "    print(f\"Percentage of Products Ordered: {round(percentage_ordered)}%\")\n",
    "\n"
   ]
  },
  {
   "cell_type": "code",
   "execution_count": 51,
   "id": "83afead0-fff3-4b4f-a62e-d1c83c9e1587",
   "metadata": {},
   "outputs": [
    {
     "name": "stdout",
     "output_type": "stream",
     "text": [
      "Order Statistics:\n",
      "Total Products Ordered: 2\n",
      "Percentage of Products Ordered: 2%\n"
     ]
    }
   ],
   "source": [
    "print_order_statistics(order_statistics,inventory)"
   ]
  },
  {
   "cell_type": "markdown",
   "id": "633b42fd-555e-42fe-b7fb-092a8862c3e3",
   "metadata": {},
   "source": [
    "### 6. Define a function named `print_updated_inventory` that takes `inventory` as a parameter. Inside the function, implement the code for printing the updated inventory."
   ]
  },
  {
   "cell_type": "code",
   "execution_count": 24,
   "id": "d024bd32-fa83-4800-86ea-ca60add247e3",
   "metadata": {},
   "outputs": [],
   "source": [
    "def print_updated_inventory(inventory):\n",
    "    for item in customer_orders_v1:\n",
    "        inventory[item] -=1 "
   ]
  },
  {
   "cell_type": "code",
   "execution_count": 41,
   "id": "d9093853-2fed-4121-bd04-42d5224857d5",
   "metadata": {},
   "outputs": [],
   "source": [
    "print_updated_inventory(inventory)"
   ]
  },
  {
   "cell_type": "code",
   "execution_count": 43,
   "id": "8fe24f7a-3449-411c-bfeb-40978517af6c",
   "metadata": {},
   "outputs": [
    {
     "name": "stdout",
     "output_type": "stream",
     "text": [
      "{'T-shirt': 100000000, 'Mug': 1000000, 'Hat': 10, 'Book': 199999999998, 'Keychain': 99999998}\n"
     ]
    }
   ],
   "source": [
    "print(inventory)"
   ]
  },
  {
   "cell_type": "markdown",
   "id": "f459cc34-bc0c-419d-a63e-c3c1c00ca531",
   "metadata": {},
   "source": [
    "### 7. Call the functions in the appropriate sequence to execute the program and manage customer orders.\n"
   ]
  },
  {
   "cell_type": "code",
   "execution_count": 55,
   "id": "fc84c553-6fe4-414c-a289-2ff92753a6eb",
   "metadata": {},
   "outputs": [
    {
     "name": "stdin",
     "output_type": "stream",
     "text": [
      "Enter quantity for product 1\n",
      "Enter quantity for product 1\n",
      "Enter quantity for product 1\n",
      "Enter quantity for product 1\n",
      "Enter quantity for product 1\n",
      "Insert one of the items: T-shirt, Mug, Hat, Book, Keychain key\n"
     ]
    },
    {
     "name": "stdout",
     "output_type": "stream",
     "text": [
      "That was not a valid item!\n"
     ]
    },
    {
     "name": "stdin",
     "output_type": "stream",
     "text": [
      "Do you still want to continue?(Yes/No) yes\n",
      "Insert one of the items: T-shirt, Mug, Hat, Book, Keychain keychain\n",
      "Do you still want to continue?(Yes/No) yes\n",
      "Insert one of the items: T-shirt, Mug, Hat, Book, Keychain book\n",
      "Do you still want to continue?(Yes/No) no\n"
     ]
    },
    {
     "name": "stdout",
     "output_type": "stream",
     "text": [
      "Order Statistics:\n",
      "Total Products Ordered: 2\n",
      "Percentage of Products Ordered: 40%\n"
     ]
    }
   ],
   "source": [
    "initialize_inventory(products)\n",
    "customer_orders_v1 = get_customer_orders()\n",
    "print_order_statistics(customer_orders_v1, inventory)\n",
    "print_updated_inventory(inventory)"
   ]
  },
  {
   "cell_type": "code",
   "execution_count": 37,
   "id": "25142edc-b91e-4dcf-aa1b-df50a917fb1b",
   "metadata": {},
   "outputs": [
    {
     "name": "stdout",
     "output_type": "stream",
     "text": [
      "{'T-shirt': 20, 'Mug': 29, 'Hat': 9, 'Book': 20, 'Keychain': 10}\n"
     ]
    }
   ],
   "source": [
    "print(inventory)"
   ]
  },
  {
   "cell_type": "code",
   "execution_count": null,
   "id": "5f2bf27b-ba8a-4888-a66c-7f509a6c9659",
   "metadata": {},
   "outputs": [],
   "source": []
  }
 ],
 "metadata": {
  "kernelspec": {
   "display_name": "Python [conda env:base] *",
   "language": "python",
   "name": "conda-base-py"
  },
  "language_info": {
   "codemirror_mode": {
    "name": "ipython",
    "version": 3
   },
   "file_extension": ".py",
   "mimetype": "text/x-python",
   "name": "python",
   "nbconvert_exporter": "python",
   "pygments_lexer": "ipython3",
   "version": "3.11.5"
  }
 },
 "nbformat": 4,
 "nbformat_minor": 5
}
