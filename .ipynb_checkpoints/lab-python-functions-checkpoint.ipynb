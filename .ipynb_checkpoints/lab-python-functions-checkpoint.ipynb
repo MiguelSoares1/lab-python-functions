{
 "cells": [
  {
   "cell_type": "markdown",
   "id": "25d7736c-ba17-4aff-b6bb-66eba20fbf4e",
   "metadata": {},
   "source": [
    "# Lab | Functions"
   ]
  },
  {
   "cell_type": "markdown",
   "id": "0c581062-8967-4d93-b06e-62833222f930",
   "metadata": {
    "tags": []
   },
   "source": [
    "## Exercise: Managing Customer Orders with Functions\n",
    "\n",
    "In the previous exercise, you improved the code for managing customer orders by using loops and flow control. Now, let's take it a step further and refactor the code by introducing functions.\n",
    "\n",
    "Follow the steps below to complete the exercise:\n",
    "\n",
    "1. Define a function named `initialize_inventory` that takes `products` as a parameter. Inside the function, implement the code for initializing the inventory dictionary using a loop and user input.\n",
    "\n",
    "2. Define a function named `get_customer_orders` that takes no parameters. Inside the function, implement the code for prompting the user to enter the product names using a loop. The function should return the `customer_orders` set.\n",
    "\n",
    "3. Define a function named `update_inventory` that takes `customer_orders` and `inventory` as parameters. Inside the function, implement the code for updating the inventory dictionary based on the customer orders.\n",
    "\n",
    "4. Define a function named `calculate_order_statistics` that takes `customer_orders` and `products` as parameters. Inside the function, implement the code for calculating the order statistics (total products ordered, and percentage of unique products ordered). The function should return these values.\n",
    "\n",
    "5. Define a function named `print_order_statistics` that takes `order_statistics` as a parameter. Inside the function, implement the code for printing the order statistics.\n",
    "\n",
    "6. Define a function named `print_updated_inventory` that takes `inventory` as a parameter. Inside the function, implement the code for printing the updated inventory.\n",
    "\n",
    "7. Call the functions in the appropriate sequence to execute the program and manage customer orders.\n",
    "\n",
    "Hints for functions:\n",
    "\n",
    "- Consider the input parameters required for each function and their return values.\n",
    "- Utilize function parameters and return values to transfer data between functions.\n",
    "- Test your functions individually to ensure they work correctly.\n",
    "\n",
    "\n"
   ]
  },
  {
   "cell_type": "markdown",
   "id": "c99dfdcd-ac0e-40f0-84a7-da770d19bb91",
   "metadata": {},
   "source": [
    "### 1 Define list of products"
   ]
  },
  {
   "cell_type": "code",
   "execution_count": 76,
   "id": "6d52dee6-bd99-45d8-84cc-853417676566",
   "metadata": {},
   "outputs": [],
   "source": [
    "products = [\"T-shirt\", \"Mug\", \"Hat\", \"Book\", \"Keychain\"]"
   ]
  },
  {
   "cell_type": "markdown",
   "id": "f2530dc4-5f84-43d9-a1e8-d0f222517df0",
   "metadata": {},
   "source": [
    "### 1. Define a function named `initialize_inventory` that takes `products` as a parameter. Inside the function, implement the code for initializing the inventory dictionary using a loop and user input."
   ]
  },
  {
   "cell_type": "code",
   "execution_count": 78,
   "id": "03a27861-e6f8-4c49-81ac-58f7e2cfb201",
   "metadata": {},
   "outputs": [],
   "source": [
    "def initialize_inventory(products):\n",
    "    inventory = {}\n",
    "    for product in products:\n",
    "        quantity = int(input(f\"Enter quantity for {product}: \"))\n",
    "        inventory[product] = quantity\n",
    "    return inventory"
   ]
  },
  {
   "cell_type": "markdown",
   "id": "e54f63db-6a9d-45d7-a911-6b2e90929345",
   "metadata": {},
   "source": [
    "### 2. Define a function named `get_customer_orders` that takes no parameters. Inside the function, implement the code for prompting the user to enter the product names using a loop. The function should return the `customer_orders` set."
   ]
  },
  {
   "cell_type": "code",
   "execution_count": 84,
   "id": "141b51af-7859-457e-ab62-edfbbb1ed6ca",
   "metadata": {},
   "outputs": [],
   "source": [
    "def get_customer_orders(products):\n",
    "    customer_orders = set()\n",
    "    while True:\n",
    "        item = input(\"Insert one of the items: T-shirt, Mug, Hat, Book, Keychain: \").capitalize()\n",
    "        if item in products:\n",
    "            customer_orders.add(item)\n",
    "        else:\n",
    "            print(\"That was not a valid item!\")\n",
    "        if input(\"Do you want to continue? (Yes/No): \").lower() == \"no\":\n",
    "            break\n",
    "    return customer_orders"
   ]
  },
  {
   "cell_type": "markdown",
   "id": "83f62473-3dc1-4ef0-975c-eb155b98d7d1",
   "metadata": {},
   "source": [
    "### 3. Define a function named `update_inventory` that takes `customer_orders` and `inventory` as parameters. Inside the function, implement the code for updating the inventory dictionary based on the customer orders."
   ]
  },
  {
   "cell_type": "code",
   "execution_count": 88,
   "id": "6085bf09-bbbc-4b18-b3eb-70153e502e74",
   "metadata": {},
   "outputs": [],
   "source": [
    "def update_inventory(customer_orders, inventory):\n",
    "    for item in customer_orders:\n",
    "        if item in inventory:\n",
    "            inventory[item] -= 1\n",
    "    return inventory"
   ]
  },
  {
   "cell_type": "markdown",
   "id": "44ec2e94-6af6-49f8-bdab-4bb5f90a1dc7",
   "metadata": {},
   "source": [
    "###  4. Define a function named `calculate_order_statistics` that takes `customer_orders` and `products` as parameters. Inside the function, implement the code for calculating the order statistics (total products ordered, and percentage of unique products ordered). The function should return these values."
   ]
  },
  {
   "cell_type": "code",
   "execution_count": 92,
   "id": "578733ef-1276-4b0c-903f-e3f5e4e4d230",
   "metadata": {},
   "outputs": [],
   "source": [
    "def calculate_order_statistics(customer_orders, products):\n",
    "    total_ordered = len(customer_orders)\n",
    "    percentage_ordered = (total_ordered / len(products)) * 100\n",
    "    return total_ordered, percentage_ordered"
   ]
  },
  {
   "cell_type": "markdown",
   "id": "7cce3f5f-6c06-46a5-a9ee-b7a3fcf85f88",
   "metadata": {},
   "source": [
    "### 5. Define a function named `print_order_statistics` that takes `order_statistics` as a parameter. Inside the function, implement the code for printing the order statistics.\n"
   ]
  },
  {
   "cell_type": "code",
   "execution_count": 96,
   "id": "94e5f921-819c-4109-a2e4-d932c4592efc",
   "metadata": {},
   "outputs": [],
   "source": [
    "def print_order_statistics(order_statistics):\n",
    "    print(f\"Total Products Ordered: {order_statistics[0]}\")\n",
    "    print(f\"Percentage of Unique Products Ordered: {order_statistics[1]:.2f}%\")"
   ]
  },
  {
   "cell_type": "markdown",
   "id": "71d5a1c3-33db-4fab-880a-32951ac17ad3",
   "metadata": {},
   "source": [
    "### 6. Define a function named `print_updated_inventory` that takes `inventory` as a parameter. Inside the function, implement the code for printing the updated inventory.\n"
   ]
  },
  {
   "cell_type": "code",
   "execution_count": 102,
   "id": "5a23be0a-e447-4176-b47f-c4f3c679e211",
   "metadata": {},
   "outputs": [],
   "source": [
    "def print_updated_inventory(inventory):\n",
    "    print(\"Updated Inventory:\")\n",
    "    for product, quantity in inventory.items():\n",
    "        print(f\"{product}: {quantity}\")\n"
   ]
  },
  {
   "cell_type": "markdown",
   "id": "ed10455f-fa5f-48cd-ab91-1f3dcce3547f",
   "metadata": {},
   "source": [
    "### 7. Call the functions in the appropriate sequence to execute the program and manage customer orders."
   ]
  },
  {
   "cell_type": "code",
   "execution_count": 106,
   "id": "7b49f1dd-0b3f-4ea6-8465-d310a66f468d",
   "metadata": {},
   "outputs": [
    {
     "name": "stdin",
     "output_type": "stream",
     "text": [
      "Enter quantity for T-shirt:  1\n",
      "Enter quantity for Mug:  1\n",
      "Enter quantity for Hat:  1\n",
      "Enter quantity for Book:  1\n",
      "Enter quantity for Keychain:  1\n",
      "Insert one of the items: T-shirt, Mug, Hat, Book, Keychain:  mug\n",
      "Do you want to continue? (Yes/No):  yes\n",
      "Insert one of the items: T-shirt, Mug, Hat, Book, Keychain:  hat\n",
      "Do you want to continue? (Yes/No):  no\n"
     ]
    },
    {
     "name": "stdout",
     "output_type": "stream",
     "text": [
      "Total Products Ordered: 2\n",
      "Percentage of Unique Products Ordered: 40.00%\n",
      "Updated Inventory:\n",
      "T-shirt: 1\n",
      "Mug: 0\n",
      "Hat: 0\n",
      "Book: 1\n",
      "Keychain: 1\n"
     ]
    }
   ],
   "source": [
    "products = [\"T-shirt\", \"Mug\", \"Hat\", \"Book\", \"Keychain\"]\n",
    "\n",
    "inventory = initialize_inventory(products)\n",
    "customer_orders = get_customer_orders(products)\n",
    "inventory = update_inventory(customer_orders, inventory)\n",
    "order_statistics = calculate_order_statistics(customer_orders, products)\n",
    "print_order_statistics(order_statistics)\n",
    "print_updated_inventory(inventory)"
   ]
  },
  {
   "cell_type": "code",
   "execution_count": null,
   "id": "7049d961-3cc6-463d-b333-b9cbcba10ac2",
   "metadata": {},
   "outputs": [],
   "source": []
  }
 ],
 "metadata": {
  "kernelspec": {
   "display_name": "Python [conda env:base] *",
   "language": "python",
   "name": "conda-base-py"
  },
  "language_info": {
   "codemirror_mode": {
    "name": "ipython",
    "version": 3
   },
   "file_extension": ".py",
   "mimetype": "text/x-python",
   "name": "python",
   "nbconvert_exporter": "python",
   "pygments_lexer": "ipython3",
   "version": "3.11.5"
  }
 },
 "nbformat": 4,
 "nbformat_minor": 5
}
